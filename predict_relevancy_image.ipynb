{
 "cells": [
  {
   "cell_type": "code",
   "execution_count": 4,
   "id": "606dfef7",
   "metadata": {},
   "outputs": [],
   "source": [
    "###importing libraries\n",
    "\n",
    "import pandas as pd\n",
    "import numpy as np\n",
    "import seaborn as sns\n",
    "\n",
    "#for text pre-processing\n",
    "import re, string\n",
    "import nltk\n",
    "from nltk.tokenize import word_tokenize\n",
    "from nltk.corpus import stopwords\n",
    "from nltk.tokenize import word_tokenize\n",
    "from nltk.stem import SnowballStemmer\n",
    "from nltk.corpus import wordnet\n",
    "from nltk.stem import WordNetLemmatizer\n",
    "\n",
    "#for model-building\n",
    "from sklearn.model_selection import train_test_split\n",
    "from sklearn.linear_model import LogisticRegression\n",
    "from sklearn.naive_bayes import MultinomialNB\n",
    "from sklearn.metrics import classification_report, f1_score, accuracy_score, confusion_matrix\n",
    "from sklearn.metrics import roc_curve, auc, roc_auc_score\n",
    "\n",
    "\n",
    "# bag of words\n",
    "from sklearn.feature_extraction.text import TfidfVectorizer\n",
    "from sklearn.feature_extraction.text import CountVectorizer\n",
    "\n",
    "#for word embedding\n",
    "import gensim\n",
    "from gensim.models import Word2Vec\n",
    "\n",
    "#for handling imbalance in the dataset\n",
    "\n",
    "from sklearn.model_selection import StratifiedShuffleSplit\n",
    "\n",
    "from sklearn.model_selection import cross_val_score"
   ]
  },
  {
   "cell_type": "code",
   "execution_count": 2,
   "id": "e0f29969",
   "metadata": {},
   "outputs": [],
   "source": [
    "import nltk\n",
    "import ssl\n",
    "\n",
    "try:\n",
    "    _create_unverified_https_context = ssl._create_unverified_context\n",
    "except AttributeError:\n",
    "    pass\n",
    "else:\n",
    "    ssl._create_default_https_context = _create_unverified_https_context\n",
    "\n",
    "# nltk.download('stopwords')\n",
    "# nltk.download('punkt')\n",
    "# nltk.download('averaged_perceptron_tagger')\n",
    "# nltk.download('wordnet')"
   ]
  },
  {
   "cell_type": "code",
   "execution_count": 3,
   "id": "6a50e4bf",
   "metadata": {},
   "outputs": [],
   "source": [
    "#optional settings for exploratory analysis\n",
    "pd.set_option(\"display.max_colwidth\", None)"
   ]
  },
  {
   "cell_type": "markdown",
   "id": "c2c486a2",
   "metadata": {},
   "source": [
    "### Input output functions"
   ]
  },
  {
   "cell_type": "code",
   "execution_count": 4,
   "id": "827ebdd3",
   "metadata": {},
   "outputs": [],
   "source": [
    "def read_input(file):\n",
    "    \"\"\"\n",
    "    Reads input file into pandas dataframe\n",
    "    file : path of the file\n",
    "    return : pandas dataframe\n",
    "    \"\"\"\n",
    "    input_file = pd.read_feather(file)\n",
    "    return input_file"
   ]
  },
  {
   "cell_type": "markdown",
   "id": "25240698",
   "metadata": {},
   "source": [
    "### Text Processing functions"
   ]
  },
  {
   "cell_type": "code",
   "execution_count": 91,
   "id": "07827caf",
   "metadata": {},
   "outputs": [],
   "source": [
    "def conv_to_str(input_file, column_name):\n",
    "    \"\"\"\n",
    "    converts the feature to str\n",
    "    input_file : pandas dataframe\n",
    "    column_name : feature name\n",
    "    return : connverted feature name as str type\n",
    "    \"\"\"\n",
    "    input_file[column_name] = input_file[column_name].astype(str)\n",
    "    return input_file\n",
    "\n",
    "\n",
    "def preprocess(text):\n",
    "    \"\"\"\n",
    "    It does the following in order:\n",
    "    1.Converts text to lowercase\n",
    "    2.Strips of leading, trailing white spaces\n",
    "    3.Removes special characters\n",
    "    4.Removes punctuations\n",
    "    5.Removes extra white spaces\n",
    "    6.Removes digits\n",
    "    7.Removes any other whitespaces\n",
    "    8.Remove other digit characters\n",
    "    text: text to process\n",
    "    return: clean text\n",
    "    \"\"\"\n",
    "    text = text.lower() \n",
    "    text = text.strip()  \n",
    "    text = re.compile('<.*?>').sub('', text) \n",
    "    text = re.compile('[%s]' % re.escape(string.punctuation)).sub(' ', text)  \n",
    "    text = re.sub('\\s+', ' ', text)  \n",
    "    text = re.sub(r'\\[[0-9]*\\]',' ',text) \n",
    "    text = re.sub(r'[^\\w\\s]', '', str(text).lower().strip())\n",
    "    text = re.sub(r'\\d',' ',text) \n",
    "    text = re.sub(r'(^| ).( |$)',' ', text)\n",
    "    return text\n",
    "\n",
    "def remove_stopwords(text):\n",
    "    \"\"\"\n",
    "    removes stopwords from the text\n",
    "    text : text to process\n",
    "    return: text with removed stopwords\n",
    "    \"\"\"\n",
    "    a= [word for word in text.split() if word not in stopwords.words('english')]\n",
    "    return ' '.join(a)\n",
    "\n",
    "\n",
    "def lemmatize(text):\n",
    "    \"\"\"\n",
    "    Reduce the text to it's orginal form depending on it's tag\n",
    "    text : text to process\n",
    "    return : lemmatized text\n",
    "    \"\"\"\n",
    "    \n",
    "    wn = WordNetLemmatizer()\n",
    "    def get_wordnet_pos(tag):\n",
    "        if tag.startswith('J'):\n",
    "            return wordnet.ADJ\n",
    "        elif tag.startswith('V'):\n",
    "            return wordnet.VERB\n",
    "        elif tag.startswith('N'):\n",
    "            return wordnet.NOUN\n",
    "        elif tag.startswith('R'):\n",
    "            return wordnet.ADV\n",
    "        else:\n",
    "            return wordnet.NOUN\n",
    "    \n",
    "    word_pos_tags = nltk.pos_tag(word_tokenize(text))\n",
    "    a=[wn.lemmatize(tag[0], get_wordnet_pos(tag[1])) for idx, tag in enumerate(word_pos_tags)] \n",
    "    return \" \".join(a)\n",
    "\n",
    "def all_preprocess(string):\n",
    "    \"\"\"\n",
    "    Combines all the text preprocessing steps\n",
    "    string: text to process\n",
    "    return : clean text \n",
    "    \"\"\"\n",
    "    return remove_stopwords(preprocess(string))"
   ]
  },
  {
   "cell_type": "markdown",
   "id": "f3afd46c",
   "metadata": {},
   "source": [
    "### main function"
   ]
  },
  {
   "cell_type": "code",
   "execution_count": 6,
   "id": "3aafd4f2",
   "metadata": {},
   "outputs": [],
   "source": [
    "if __name__ == \"__main__\":\n",
    "    \n",
    "    #read in the input data\n",
    "    data = read_input('data/train.feather')\n",
    "    "
   ]
  },
  {
   "cell_type": "markdown",
   "id": "ede28d40",
   "metadata": {},
   "source": [
    "## Exploratory data analysis - Basic statistics , Feature Engineering & Feature Selection\n",
    "\n",
    "###### Total number of rows : 607844\n",
    "###### No duplicates\n",
    "###### Number of features : 23\n",
    "###### 733 distinct queries\n",
    "###### Features like 'crossorigin', 'ismap', 'loading', 'longdesc',' referrerpolicy', 'sizes', 'srcset', 'style', have more 80% of missing values (shown as below) in them and doesn't make sense to include in them in the model. Hence all of them are dropped \n"
   ]
  },
  {
   "cell_type": "code",
   "execution_count": 7,
   "id": "a6fc3cba",
   "metadata": {},
   "outputs": [
    {
     "data": {
      "text/plain": [
       "query              0.000000\n",
       "url_page           0.000000\n",
       "title              0.000000\n",
       "source             0.000000\n",
       "alt               15.009114\n",
       "src                0.000000\n",
       "crossorigin       99.947684\n",
       "height            59.597693\n",
       "ismap             99.998519\n",
       "loading           80.367496\n",
       "longdesc          99.758326\n",
       "referrerpolicy    99.946697\n",
       "sizes             89.308605\n",
       "srcset            82.591257\n",
       "width             57.822895\n",
       "class             49.008298\n",
       "style             87.183718\n",
       "tree_path          0.000000\n",
       "deg               30.277999\n",
       "text_tag          30.277999\n",
       "text              30.277999\n",
       "id                 0.000000\n",
       "is_relevant        0.000000\n",
       "dtype: float64"
      ]
     },
     "execution_count": 7,
     "metadata": {},
     "output_type": "execute_result"
    }
   ],
   "source": [
    "data.isnull().sum() * 100 / len(data)"
   ]
  },
  {
   "cell_type": "code",
   "execution_count": 8,
   "id": "3e66c255",
   "metadata": {},
   "outputs": [],
   "source": [
    "# Drop columns\n",
    "data.drop(columns=['crossorigin', 'height', 'ismap', 'loading', 'longdesc', 'referrerpolicy', 'sizes', 'srcset','style'], inplace = True)"
   ]
  },
  {
   "cell_type": "markdown",
   "id": "f4d28d6f",
   "metadata": {},
   "source": [
    "###### Features like 'width', 'class', 'deg', 'text_tag', 'tree_path' don't have any real information that can add value to the text description we want to build and hence are removed on heuristic basics\n",
    "\n",
    "###### Text in 'url_page' is more specific compared to the 'source' feature and might only create more deviation from the prediction . Hence is removed\n",
    "\n",
    "##### Feature 'text' add more descriptions to the exact image and hence it is retained\n"
   ]
  },
  {
   "cell_type": "code",
   "execution_count": 9,
   "id": "3072f887",
   "metadata": {},
   "outputs": [],
   "source": [
    "# Drop columns based on heuristics\n",
    "data.drop(columns=['width', 'class', 'deg', 'text_tag', 'tree_path', 'source'], inplace = True)"
   ]
  },
  {
   "cell_type": "code",
   "execution_count": 69,
   "id": "27c8c02e",
   "metadata": {},
   "outputs": [
    {
     "name": "stdout",
     "output_type": "stream",
     "text": [
      "0    586007\n",
      "1     21837\n",
      "Name: is_relevant, dtype: int64\n"
     ]
    },
    {
     "data": {
      "text/plain": [
       "<Axes: ylabel='is_relevant'>"
      ]
     },
     "execution_count": 69,
     "metadata": {},
     "output_type": "execute_result"
    },
    {
     "data": {
      "image/png": "[encoded data removed]",
      "text/plain": [
       "<Figure size 640x480 with 1 Axes>"
      ]
     },
     "metadata": {},
     "output_type": "display_data"
    }
   ],
   "source": [
    "#Target feature distribution\n",
    "print(data.is_relevant.value_counts())\n",
    "\n",
    "sns.barplot(x=data.is_relevant.value_counts().index, y=data.is_relevant.value_counts())"
   ]
  },
  {
   "cell_type": "markdown",
   "id": "2b174106",
   "metadata": {},
   "source": [
    "#### data is imbalanced , there 96% of 0 compared to 1 , hence balancing techniques need to be applied while building the model"
   ]
  },
  {
   "cell_type": "markdown",
   "id": "e46bfab6",
   "metadata": {},
   "source": [
    "#### Text preprocessing"
   ]
  },
  {
   "cell_type": "code",
   "execution_count": 100,
   "id": "0820bceb",
   "metadata": {},
   "outputs": [],
   "source": [
    "# Preprocessing text \n",
    "\n",
    "# data['clean_text'] = data['combined_text'].apply(lambda x: all_preprocess(x))"
   ]
  },
  {
   "cell_type": "code",
   "execution_count": 101,
   "id": "ab13b90f",
   "metadata": {},
   "outputs": [],
   "source": [
    "data['clean_query'] = data['query'].apply(lambda x: all_preprocess(x))"
   ]
  },
  {
   "cell_type": "code",
   "execution_count": 110,
   "id": "ae61f0cf",
   "metadata": {},
   "outputs": [],
   "source": [
    "data['clean_url_page'] = data['url_page'].apply(lambda x: all_preprocess(x))"
   ]
  },
  {
   "cell_type": "code",
   "execution_count": 113,
   "id": "ab1158f8",
   "metadata": {},
   "outputs": [],
   "source": [
    "data['clean_title'] = data['title'].apply(lambda x: all_preprocess(x))"
   ]
  },
  {
   "cell_type": "code",
   "execution_count": 114,
   "id": "5d3cd727",
   "metadata": {},
   "outputs": [],
   "source": [
    "data['clean_src'] = data['src'].apply(lambda x: all_preprocess(x))"
   ]
  },
  {
   "cell_type": "code",
   "execution_count": 116,
   "id": "a1d23e45",
   "metadata": {},
   "outputs": [],
   "source": [
    "data['clean_alt'] = data['alt'].apply(lambda x: all_preprocess(x))"
   ]
  },
  {
   "cell_type": "code",
   "execution_count": 135,
   "id": "5eea8592",
   "metadata": {},
   "outputs": [],
   "source": [
    "data['clean_text'] = data['text'].apply(lambda x: all_preprocess(x))"
   ]
  },
  {
   "cell_type": "code",
   "execution_count": 151,
   "id": "adac4eb5",
   "metadata": {},
   "outputs": [],
   "source": [
    "# Merge all of the text columns to form one feature variable for prediction\n",
    "data['combined_text'] = data[['clean_query', 'clean_url_page', 'clean_title', 'clean_alt', 'clean_src', 'clean_text' ]].agg(' '.join, axis=1)"
   ]
  },
  {
   "cell_type": "code",
   "execution_count": 140,
   "id": "cf96b423",
   "metadata": {},
   "outputs": [
    {
     "data": {
      "text/plain": [
       "count    607844.000000\n",
       "mean        129.229791\n",
       "std        1250.899271\n",
       "min           9.000000\n",
       "25%          30.000000\n",
       "50%          38.000000\n",
       "75%          52.000000\n",
       "max       76563.000000\n",
       "Name: combined_text, dtype: float64"
      ]
     },
     "execution_count": 140,
     "metadata": {},
     "output_type": "execute_result"
    }
   ],
   "source": [
    "# word count\n",
    "data['combined_text'].apply(lambda x: len(str(x).split())).describe()"
   ]
  },
  {
   "cell_type": "code",
   "execution_count": 122,
   "id": "eadec7b7",
   "metadata": {},
   "outputs": [
    {
     "data": {
      "text/plain": [
       "count    607844.000000\n",
       "mean         12.852143\n",
       "std          57.935121\n",
       "min           1.000000\n",
       "25%           9.000000\n",
       "50%          11.000000\n",
       "75%          14.000000\n",
       "max       44478.000000\n",
       "Name: clean_src, dtype: float64"
      ]
     },
     "execution_count": 122,
     "metadata": {},
     "output_type": "execute_result"
    }
   ],
   "source": [
    "data['clean_src'].apply(lambda x: len(str(x).split())).describe()"
   ]
  },
  {
   "cell_type": "markdown",
   "id": "402f5880",
   "metadata": {},
   "source": [
    "##### TRAINING AND SPLITTING"
   ]
  },
  {
   "cell_type": "code",
   "execution_count": 152,
   "id": "f6fc70e5",
   "metadata": {},
   "outputs": [
    {
     "name": "stdout",
     "output_type": "stream",
     "text": [
      "0    468805\n",
      "1     17470\n",
      "Name: is_relevant, dtype: int64\n",
      "0    117202\n",
      "1      4367\n",
      "Name: is_relevant, dtype: int64\n"
     ]
    }
   ],
   "source": [
    "# Input: \"clean_text\"\n",
    "# Target: \"is_relevant\"\n",
    "# X_train, X_test, y_train, y_test = train_test_split(data[\"clean_text\"],\n",
    "#                                                   data[\"is_relevant\"],\n",
    "#                                                   test_size=0.2,\n",
    "#                                                   shuffle=True)\n",
    "\n",
    "# print(y_train.value_counts())\n",
    "\n",
    "# print(y_test.value_counts())\n",
    "\n",
    "#Handling imbalance in the data \n",
    "splitter = StratifiedShuffleSplit(n_splits=1, test_size=0.20,\n",
    "                             random_state=0)\n",
    "\n",
    "for train, test in splitter.split(data[\"combined_text\"], data[\"is_relevant\"]):\n",
    "    X_train = data[\"combined_text\"].iloc[train]\n",
    "    y_train = data[\"is_relevant\"].iloc[train]\n",
    "    X_test = data[\"combined_text\"].iloc[test]\n",
    "    y_test = data[\"is_relevant\"].iloc[test]\n",
    "    \n",
    "    \n",
    "\n",
    "print(y_train.value_counts())\n",
    "print(y_test.value_counts())"
   ]
  },
  {
   "cell_type": "markdown",
   "id": "4731a32b",
   "metadata": {},
   "source": [
    "##### VECTORIZATION"
   ]
  },
  {
   "cell_type": "code",
   "execution_count": 153,
   "id": "189a6eef",
   "metadata": {},
   "outputs": [],
   "source": [
    "#using tf-idf\n",
    "\n",
    "tfidf_vectorizer = TfidfVectorizer(use_idf=True)\n",
    "X_train_vectors_tfidf = tfidf_vectorizer.fit_transform(X_train) \n",
    "X_test_vectors_tfidf = tfidf_vectorizer.transform(X_test)"
   ]
  },
  {
   "cell_type": "code",
   "execution_count": 174,
   "id": "a276d0df",
   "metadata": {},
   "outputs": [],
   "source": [
    "#using word2vec\n",
    "\n",
    "data['clean_text_tok']=[nltk.word_tokenize(i) for i in data['combined_text']]"
   ]
  },
  {
   "cell_type": "code",
   "execution_count": 175,
   "id": "f58fb348",
   "metadata": {},
   "outputs": [],
   "source": [
    "w2v_model = gensim.models.Word2Vec(data['clean_text_tok'], vector_size=100, window=5, min_count=5, workers=4)"
   ]
  },
  {
   "cell_type": "code",
   "execution_count": 185,
   "id": "5add9448",
   "metadata": {},
   "outputs": [],
   "source": [
    "w2v = dict(zip(model.wv.index_to_key, model.wv.vectors)) "
   ]
  },
  {
   "cell_type": "code",
   "execution_count": null,
   "id": "7ef69c5c",
   "metadata": {},
   "outputs": [],
   "source": [
    "#embedding function to get the mean of all vectors\n",
    "class MeanEmbeddingVectorizer(object):\n",
    "    \"\"\"\n",
    "    Calculates the mean of all vectors of the words in a document\n",
    "    \"\"\"\n",
    "    def __init__(self, word2vec):\n",
    "        self.word2vec = word2vec\n",
    "        # if a text is empty we should return a vector of zeros\n",
    "        # with the same dimensionality as all the other vectors\n",
    "        self.dim = len(word2vec.wv.syn0[0])\n",
    "\n",
    "    def fit(self, X, y=None):\n",
    "        return self\n",
    "\n",
    "    def transform(self, X):\n",
    "        X = MyTokenizer().fit_transform(X)\n",
    "        \n",
    "        return np.array([\n",
    "            np.mean([self.word2vec.wv[w] for w in words if w in self.word2vec.wv]\n",
    "                    or [np.zeros(self.dim)], axis=0)\n",
    "            for words in X\n",
    "        ])\n",
    "    \n",
    "    def fit_transform(self, X, y=None):\n",
    "        return self.transform(X)"
   ]
  },
  {
   "cell_type": "code",
   "execution_count": 188,
   "id": "dd7546dc",
   "metadata": {},
   "outputs": [],
   "source": [
    "X_train_tok= [nltk.word_tokenize(i) for i in X_train]  #for word2vec\n",
    "X_test_tok= [nltk.word_tokenize(i) for i in X_test]      #for word2vec"
   ]
  },
  {
   "cell_type": "code",
   "execution_count": 192,
   "id": "0d1917ea",
   "metadata": {},
   "outputs": [],
   "source": [
    "modelw = MeanEmbeddingVectorizer(w2v)\n",
    "X_train_vectors_w2v = modelw.transform(X_train_tok)\n",
    "X_test_vectors_w2v = modelw.transform(X_test_tok)"
   ]
  },
  {
   "cell_type": "markdown",
   "id": "75015437",
   "metadata": {},
   "source": [
    "##### MODEL BUILDING\n",
    "\n",
    "#### LOGISTIC REGRESSION(TF-IDF)"
   ]
  },
  {
   "cell_type": "code",
   "execution_count": 154,
   "id": "68e248f5",
   "metadata": {},
   "outputs": [
    {
     "name": "stdout",
     "output_type": "stream",
     "text": [
      "Confusion Matrix: [[106268  10934]\n",
      " [  2599   1768]]\n",
      "\n",
      " Auc Score:  0.6557813339532791\n"
     ]
    }
   ],
   "source": [
    "# logistic regression model\n",
    "lr_tfidf=LogisticRegression(solver = 'liblinear', C=10, penalty = 'l2', class_weight = 'balanced')\n",
    "\n",
    "#fit the model\n",
    "lr_tfidf.fit(X_train_vectors_tfidf, y_train)  \n",
    "\n",
    "\n",
    "#Prediction\n",
    "y_predict = lr_tfidf.predict(X_test_vectors_tfidf)\n",
    "y_prob = lr_tfidf.predict_proba(X_test_vectors_tfidf)[:,1]\n",
    "\n",
    "\n",
    "print('Confusion Matrix:',confusion_matrix(y_test, y_predict))\n",
    "print (\"\\n Auc Score: \", roc_auc_score(y_test, y_predict))\n",
    "\n"
   ]
  },
  {
   "cell_type": "markdown",
   "id": "4edc912c",
   "metadata": {},
   "source": [
    "#### NAIVE BAYES(TF-IDF)"
   ]
  },
  {
   "cell_type": "code",
   "execution_count": 155,
   "id": "d5afd3a6",
   "metadata": {},
   "outputs": [
    {
     "name": "stdout",
     "output_type": "stream",
     "text": [
      "Confusion Matrix: [[117164     38]\n",
      " [  4361      6]]\n",
      "0.5005248571857528\n"
     ]
    }
   ],
   "source": [
    "# Naive Bayes\n",
    "nb_tfidf = MultinomialNB()\n",
    "nb_tfidf.fit(X_train_vectors_tfidf, y_train)  \n",
    "\n",
    "\n",
    "#Prediction\n",
    "y_predict = nb_tfidf.predict(X_test_vectors_tfidf)\n",
    "y_prob = nb_tfidf.predict_proba(X_test_vectors_tfidf)[:,1]\n",
    "\n",
    "\n",
    "print('Confusion Matrix:',confusion_matrix(y_test, y_predict))\n",
    "print (roc_auc_score(y_test, y_predict))"
   ]
  },
  {
   "cell_type": "markdown",
   "id": "fc82d8cd",
   "metadata": {},
   "source": [
    "#### ADA BOOSTING (TF-IDF)"
   ]
  },
  {
   "cell_type": "code",
   "execution_count": 163,
   "id": "fdd9d725",
   "metadata": {},
   "outputs": [
    {
     "name": "stderr",
     "output_type": "stream",
     "text": [
      "/Users/akalya/VENV/lib/python3.8/site-packages/sklearn/ensemble/_base.py:166: FutureWarning: `base_estimator` was renamed to `estimator` in version 1.2 and will be removed in 1.4.\n",
      "  warnings.warn(\n"
     ]
    },
    {
     "name": "stdout",
     "output_type": "stream",
     "text": [
      "Confusion Matrix: [[117164     38]\n",
      " [  4361      6]]\n",
      "0.5005248571857528\n"
     ]
    }
   ],
   "source": [
    "from sklearn.ensemble import AdaBoostClassifier\n",
    "from sklearn.tree import DecisionTreeClassifier\n",
    " \n",
    "# Choosing Decision Tree with 1 level as the weak learner\n",
    "DTC=DecisionTreeClassifier(max_depth=2)\n",
    "ad_boost = AdaBoostClassifier(n_estimators=20, base_estimator=DTC ,learning_rate=0.01)\n",
    "\n",
    "# Creating the model on Training Data\n",
    "AB=ad_boost.fit(X_train_vectors_tfidf, y_train)\n",
    "prediction=AB.predict(X_test_vectors_tfidf)\n",
    " \n",
    "print('Confusion Matrix:',confusion_matrix(y_test, y_predict))\n",
    "print (roc_auc_score(y_test, y_predict))\n",
    " "
   ]
  },
  {
   "cell_type": "markdown",
   "id": "be5a0b45",
   "metadata": {},
   "source": [
    "#### LOGISTIC REGRESSION (WORD2VEC)"
   ]
  },
  {
   "cell_type": "code",
   "execution_count": 3,
   "id": "208ae196",
   "metadata": {},
   "outputs": [
    {
     "ename": "NameError",
     "evalue": "name 'X_train_vectors_w2v' is not defined",
     "output_type": "error",
     "traceback": [
      "\u001b[0;31m---------------------------------------------------------------------------\u001b[0m",
      "\u001b[0;31mNameError\u001b[0m                                 Traceback (most recent call last)",
      "Cell \u001b[0;32mIn[3], line 3\u001b[0m\n\u001b[1;32m      1\u001b[0m \u001b[38;5;66;03m#FITTING THE CLASSIFICATION MODEL using Logistic Regression (W2v)\u001b[39;00m\n\u001b[1;32m      2\u001b[0m lr_w2v\u001b[38;5;241m=\u001b[39mLogisticRegression(solver \u001b[38;5;241m=\u001b[39m \u001b[38;5;124m'\u001b[39m\u001b[38;5;124mliblinear\u001b[39m\u001b[38;5;124m'\u001b[39m, C\u001b[38;5;241m=\u001b[39m\u001b[38;5;241m10\u001b[39m, penalty \u001b[38;5;241m=\u001b[39m \u001b[38;5;124m'\u001b[39m\u001b[38;5;124ml2\u001b[39m\u001b[38;5;124m'\u001b[39m, class_weight \u001b[38;5;241m=\u001b[39m \u001b[38;5;124m'\u001b[39m\u001b[38;5;124mbalanced\u001b[39m\u001b[38;5;124m'\u001b[39m)\n\u001b[0;32m----> 3\u001b[0m lr_w2v\u001b[38;5;241m.\u001b[39mfit(\u001b[43mX_train_vectors_w2v\u001b[49m, y_train)  \u001b[38;5;66;03m#model\u001b[39;00m\n\u001b[1;32m      5\u001b[0m \u001b[38;5;66;03m#Predict y value for test dataset\u001b[39;00m\n\u001b[1;32m      6\u001b[0m y_predict \u001b[38;5;241m=\u001b[39m lr_w2v\u001b[38;5;241m.\u001b[39mpredict(X_test_vectors_w2v)\n",
      "\u001b[0;31mNameError\u001b[0m: name 'X_train_vectors_w2v' is not defined"
     ]
    }
   ],
   "source": [
    "#FITTING THE CLASSIFICATION MODEL using Logistic Regression (W2v)\n",
    "lr_w2v=LogisticRegression(solver = 'liblinear', C=10, penalty = 'l2', class_weight = 'balanced')\n",
    "lr_w2v.fit(X_train_vectors_w2v, y_train)  #model\n",
    "\n",
    "#Predict y value for test dataset\n",
    "y_predict = lr_w2v.predict(X_test_vectors_w2v)\n",
    "y_prob = lr_w2v.predict_proba(X_test_vectors_w2v)[:,1]\n",
    " \n",
    "\n",
    "print('Confusion Matrix:',confusion_matrix(y_test, y_predict))\n",
    "print (\"\\n Auc Score: \", roc_auc_score(y_test, y_predict))\n",
    "\n",
    " "
   ]
  },
  {
   "cell_type": "code",
   "execution_count": 2,
   "id": "5a2b5c73",
   "metadata": {},
   "outputs": [
    {
     "ename": "ModuleNotFoundError",
     "evalue": "No module named 'tensorflow'",
     "output_type": "error",
     "traceback": [
      "\u001b[0;31m---------------------------------------------------------------------------\u001b[0m",
      "\u001b[0;31mModuleNotFoundError\u001b[0m                       Traceback (most recent call last)",
      "Cell \u001b[0;32mIn[2], line 1\u001b[0m\n\u001b[0;32m----> 1\u001b[0m \u001b[38;5;28;01mimport\u001b[39;00m \u001b[38;5;21;01mtensorflow\u001b[39;00m \u001b[38;5;28;01mas\u001b[39;00m \u001b[38;5;21;01mtf\u001b[39;00m\n",
      "\u001b[0;31mModuleNotFoundError\u001b[0m: No module named 'tensorflow'"
     ]
    }
   ],
   "source": [
    "import tensorflow as tf"
   ]
  }
 ],
 "metadata": {
  "kernelspec": {
   "display_name": "Python 3 (ipykernel)",
   "language": "python",
   "name": "python3"
  },
  "language_info": {
   "codemirror_mode": {
    "name": "ipython",
    "version": 3
   },
   "file_extension": ".py",
   "mimetype": "text/x-python",
   "name": "python",
   "nbconvert_exporter": "python",
   "pygments_lexer": "ipython3",
   "version": "3.8.8"
  }
 },
 "nbformat": 4,
 "nbformat_minor": 5
}
